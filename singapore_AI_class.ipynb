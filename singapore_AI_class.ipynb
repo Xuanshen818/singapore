{
  "nbformat": 4,
  "nbformat_minor": 0,
  "metadata": {
    "colab": {
      "provenance": [],
      "include_colab_link": true
    },
    "kernelspec": {
      "name": "python3",
      "display_name": "Python 3"
    },
    "language_info": {
      "name": "python"
    }
  },
  "cells": [
    {
      "cell_type": "markdown",
      "metadata": {
        "id": "view-in-github",
        "colab_type": "text"
      },
      "source": [
        "<a href=\"https://colab.research.google.com/github/Xuanshen818/singapore/blob/main/singapore_AI_class.ipynb\" target=\"_parent\"><img src=\"https://colab.research.google.com/assets/colab-badge.svg\" alt=\"Open In Colab\"/></a>"
      ]
    },
    {
      "cell_type": "markdown",
      "source": [
        "**[双击这里开始填写(必填)]**\n",
        "\n",
        "英文名：\n",
        "\n",
        "中文名：\n",
        "\n",
        "所选国家："
      ],
      "metadata": {
        "id": "XbMiosuCE36P"
      }
    },
    {
      "cell_type": "markdown",
      "source": [
        "# 一、Import Packages & Import Data 导入库和读取数据 [mandatory 必做]"
      ],
      "metadata": {
        "id": "dcTTBc3GB85V"
      }
    },
    {
      "cell_type": "markdown",
      "source": [
        "ChatGPT提问范例：我有一个数据集summer.csv，请问如何使用Python导入它并存入变量summer_df？"
      ],
      "metadata": {
        "id": "0ykz08G8KEF9"
      }
    },
    {
      "cell_type": "code",
      "execution_count": null,
      "metadata": {
        "id": "_FAyxGdw31Et"
      },
      "outputs": [],
      "source": [
        "import pandas as pd\n",
        "import numpy as np\n",
        "import matplotlib.pyplot as plt\n",
        "import seaborn as sns\n",
        "\n",
        "!wget -c https://github.com/felixnie/tmp/raw/main/summer.csv\n",
        "summer_df = pd.read_csv('summer.csv')"
      ]
    },
    {
      "cell_type": "markdown",
      "source": [
        "# 二、Explore Data 探索数据 [mandatory 必做]"
      ],
      "metadata": {
        "id": "Zthro4Z5CDWz"
      }
    },
    {
      "cell_type": "markdown",
      "source": [
        "## 1. 快速查看数据集的前五行"
      ],
      "metadata": {
        "id": "j5681Qeerwa-"
      }
    },
    {
      "cell_type": "markdown",
      "source": [
        "ChatGPT提问范例：我有一个数据集存在于变量summer_df，如何快速查看数据集的前五行？"
      ],
      "metadata": {
        "id": "Sm25L2mqKwvy"
      }
    },
    {
      "cell_type": "code",
      "source": [
        "summer_df.head()"
      ],
      "metadata": {
        "id": "cPXm-L9fBxU3"
      },
      "execution_count": null,
      "outputs": []
    },
    {
      "cell_type": "markdown",
      "source": [
        "## 2. 查看数据集的维度"
      ],
      "metadata": {
        "id": "3mxp94qUqj0M"
      }
    },
    {
      "cell_type": "markdown",
      "source": [
        "\n",
        "\n",
        "```\n",
        "# This is formatted as code\n",
        "```\n",
        "\n",
        "ChatGPT提问范例：我有一个数据集存在于变量summer_df，如何查看数据集的维度？"
      ],
      "metadata": {
        "id": "IxAgHK1NLf-E"
      }
    },
    {
      "cell_type": "code",
      "source": [
        "summer_df.shape"
      ],
      "metadata": {
        "id": "4sszTxSmDNU5"
      },
      "execution_count": null,
      "outputs": []
    },
    {
      "cell_type": "markdown",
      "source": [
        "## 3. 查看数据集的列名"
      ],
      "metadata": {
        "id": "iesTCMTSq6x-"
      }
    },
    {
      "cell_type": "markdown",
      "source": [
        "ChatGPT提问范例：我有一个数据集存在于变量summer_df，如何查看数据集的列名？"
      ],
      "metadata": {
        "id": "Kn9SKNvmLhm0"
      }
    },
    {
      "cell_type": "code",
      "source": [
        "summer_df.columns"
      ],
      "metadata": {
        "id": "7i0NTP04DKak"
      },
      "execution_count": null,
      "outputs": []
    },
    {
      "cell_type": "markdown",
      "source": [
        "## 4. 查看数据集的统计摘要"
      ],
      "metadata": {
        "id": "2tj5ABLqrU8r"
      }
    },
    {
      "cell_type": "markdown",
      "source": [
        "ChatGPT提问范例：我有一个数据集存在于变量summer_df，如何查看数据集的统计摘要？"
      ],
      "metadata": {
        "id": "FcoIZ2izLuc_"
      }
    },
    {
      "cell_type": "code",
      "source": [
        "summer_df.describe()"
      ],
      "metadata": {
        "id": "5-GzMNLoDM1k"
      },
      "execution_count": null,
      "outputs": []
    },
    {
      "cell_type": "markdown",
      "source": [
        "# 三、Clean Data 清理数据 [optional 选做]"
      ],
      "metadata": {
        "id": "l_mPm5eH-Qk7"
      }
    },
    {
      "cell_type": "markdown",
      "source": [
        "## 1. 检查重复项"
      ],
      "metadata": {
        "id": "JzFOvQ-h-Xot"
      }
    },
    {
      "cell_type": "markdown",
      "source": [
        "ChatGPT提问范例：我有一个数据集存在于变量summer_df，我想检查是否有重复行"
      ],
      "metadata": {
        "id": "40a1AbfHMS9w"
      }
    },
    {
      "cell_type": "code",
      "source": [
        "# 案例回复，用来和你的结果做对比\n",
        "import pandas as pd\n",
        "\n",
        "# 检查是否有重复的行\n",
        "duplicate_rows = summer_df.duplicated()\n",
        "\n",
        "# 如果有重复的行，打印出重复的内容\n",
        "if True in duplicate_rows:\n",
        "    print(\"以下是重复的行：\")\n",
        "    print(summer_df.loc[duplicate_rows])\n",
        "else:\n",
        "    print(\"没有重复的行。\")"
      ],
      "metadata": {
        "id": "xBwTy0JXDSjT"
      },
      "execution_count": null,
      "outputs": []
    },
    {
      "cell_type": "code",
      "source": [
        "# 在这里粘贴你的代码并运行\n"
      ],
      "metadata": {
        "id": "J29zqCqzQGT4"
      },
      "execution_count": null,
      "outputs": []
    },
    {
      "cell_type": "markdown",
      "source": [
        "## 2. 检查缺失值"
      ],
      "metadata": {
        "id": "y34teU40-bQT"
      }
    },
    {
      "cell_type": "markdown",
      "source": [
        "ChatGPT提问范例：我有一个数据集存在于变量summer_df，我想检查是否有缺失值"
      ],
      "metadata": {
        "id": "fQ13CgELM3X2"
      }
    },
    {
      "cell_type": "code",
      "source": [
        "# 案例回复，用来和你的结果做对比\n",
        "import pandas as pd\n",
        "\n",
        "# 检查是否有缺失值\n",
        "has_missing_values = summer_df.isnull().values.any()\n",
        "\n",
        "# 如果有缺失值，打印每列中缺失值的数量\n",
        "if has_missing_values:\n",
        "    print(\"以下是每列中缺失值的数量：\")\n",
        "    print(summer_df.isnull().sum())\n",
        "else:\n",
        "    print(\"没有缺失值。\")"
      ],
      "metadata": {
        "id": "6CGmDpF4NNIq"
      },
      "execution_count": null,
      "outputs": []
    },
    {
      "cell_type": "code",
      "source": [
        "# 在这里粘贴你的代码并运行\n"
      ],
      "metadata": {
        "id": "68ir1rX5QVJn"
      },
      "execution_count": null,
      "outputs": []
    },
    {
      "cell_type": "markdown",
      "source": [
        "# 四、XXX国奥运表现历史回顾 [mandatory 必做]"
      ],
      "metadata": {
        "id": "VQkfEz3G_C8z"
      }
    },
    {
      "cell_type": "markdown",
      "source": [
        "## 1. 历届参赛总人数"
      ],
      "metadata": {
        "id": "w2C1IDiUtpwU"
      }
    },
    {
      "cell_type": "markdown",
      "source": [
        "ChatGPT提问范例：\n",
        "\n",
        "**[如果之前有对话，点击ChatGPT输入框左侧小刷子清除上一段对话的记忆]**\n",
        "\n",
        "我有一个数据集summer.csv。 每行对应于参加个别奥林匹克运动项目的个别运动员（运动员事件）。\n",
        "有以下几列：\n",
        "ID - Unique number for each athlete\n",
        "Name - Athlete's name\n",
        "Sex - M or F\n",
        "Age - Integer\n",
        "Height - In centimeters\n",
        "Weight - In kilograms\n",
        "Year - Integer\n",
        "City - Host city\n",
        "Sport - Sport\n",
        "Event - Event\n",
        "region - country of the athlete\n",
        "Gold- Integer\n",
        "Silver - Integer\n",
        "Bronze - Integer\n",
        "isTeam - True or False\n",
        "\n",
        "请找出法国每年的参赛人数。不要将该年内参加多个项目的运动员重复计算。"
      ],
      "metadata": {
        "id": "gn-HdM3xPBD0"
      }
    },
    {
      "cell_type": "code",
      "source": [
        "# 案例回复，用来和你的结果做对比\n",
        "import pandas as pd\n",
        "\n",
        "# 读取数据集\n",
        "df = pd.read_csv('summer.csv')\n",
        "\n",
        "# 筛选出法国运动员的数据\n",
        "df_france = df[df['region'] == 'France']\n",
        "\n",
        "# 按照年份和运动员的国籍进行分组，并在每个分组内去除重复的运动员ID\n",
        "df_france_grouped = df_france.groupby(['Year', 'ID'])['Event'].first().reset_index()\n",
        "\n",
        "# 计算每个年份的参赛人数\n",
        "df_france_participants = df_france_grouped.groupby('Year')['ID'].count().reset_index()\n",
        "\n",
        "# 打印结果\n",
        "print(df_france_participants)"
      ],
      "metadata": {
        "id": "4M7Jc28ZtwZP"
      },
      "execution_count": null,
      "outputs": []
    },
    {
      "cell_type": "code",
      "source": [
        "# 在这里粘贴你的代码并运行\n"
      ],
      "metadata": {
        "id": "ZOQwZG2MPq7M"
      },
      "execution_count": null,
      "outputs": []
    },
    {
      "cell_type": "markdown",
      "source": [
        "## 2. 历届参赛男性人数"
      ],
      "metadata": {
        "id": "uNvPLOhQtw4T"
      }
    },
    {
      "cell_type": "markdown",
      "source": [
        "ChatGPT提问范例：\n",
        "\n",
        "**[紧接着之前的对话]**\n",
        "\n",
        "请在此基础上找出每年男性参赛者个数"
      ],
      "metadata": {
        "id": "OXFEDPeEQ8ot"
      }
    },
    {
      "cell_type": "code",
      "source": [
        "# 案例回复，用来和你的结果做对比\n",
        "import pandas as pd\n",
        "\n",
        "# 读取CSV文件并转换为DataFrame\n",
        "df = pd.read_csv('summer.csv')\n",
        "\n",
        "# 选择仅包含法国男性运动员的行\n",
        "df_france_male = df[(df['region'] == 'France') & (df['Sex'] == 'M')]\n",
        "\n",
        "# 删除每年参加多个项目的运动员的重复记录\n",
        "df_france_male_unique = df_france_male.drop_duplicates(subset=['Year', 'Name'])\n",
        "\n",
        "# 分组并计算每年男性参赛者的数量\n",
        "num_male_participants = df_france_male_unique.groupby('Year')['ID'].count()\n",
        "\n",
        "print(num_male_participants)"
      ],
      "metadata": {
        "id": "vQkbPVsAt0Ne"
      },
      "execution_count": null,
      "outputs": []
    },
    {
      "cell_type": "code",
      "source": [
        "# 在这里粘贴你的代码并运行\n"
      ],
      "metadata": {
        "id": "I2mnmFwvR6xE"
      },
      "execution_count": null,
      "outputs": []
    },
    {
      "cell_type": "markdown",
      "source": [
        "## 3. 历届参赛女性人数"
      ],
      "metadata": {
        "id": "q8AWwEyztzzR"
      }
    },
    {
      "cell_type": "markdown",
      "source": [
        "ChatGPT提问范例：\n",
        "\n",
        "**[紧接着之前的对话]**\n",
        "\n",
        "请在此基础上找出每年女性参赛者个数"
      ],
      "metadata": {
        "id": "HSBqlGtjSGD8"
      }
    },
    {
      "cell_type": "code",
      "source": [
        "# 案例回复，用来和你的结果做对比\n",
        "import pandas as pd\n",
        "\n",
        "# 读取CSV文件并转换为DataFrame\n",
        "df = pd.read_csv('summer.csv')\n",
        "\n",
        "# 选择仅包含法国女性运动员的行\n",
        "df_france_female = df[(df['region'] == 'France') & (df['Sex'] == 'F')]\n",
        "\n",
        "# 删除每年参加多个项目的运动员的重复记录\n",
        "df_france_female_unique = df_france_female.drop_duplicates(subset=['Year', 'Name'])\n",
        "\n",
        "# 分组并计算每年女性参赛者的数量\n",
        "num_female_participants = df_france_female_unique.groupby('Year')['ID'].count()\n",
        "\n",
        "print(num_female_participants)"
      ],
      "metadata": {
        "id": "9qE6PBGPSGEC"
      },
      "execution_count": null,
      "outputs": []
    },
    {
      "cell_type": "code",
      "source": [
        "# 在这里粘贴你的代码并运行\n"
      ],
      "metadata": {
        "id": "CcCikkTaSGEC"
      },
      "execution_count": null,
      "outputs": []
    },
    {
      "cell_type": "markdown",
      "source": [
        "## 4. 可视化1：折线图"
      ],
      "metadata": {
        "id": "9TmppibNt6wm"
      }
    },
    {
      "cell_type": "markdown",
      "source": [
        "ChatGPT提问范例：\n",
        "\n",
        "**[紧接着之前的对话]**\n",
        "\n",
        "请同时筛选出法国每年的总参赛者、男参赛者和女参赛者人数，并画出折线图"
      ],
      "metadata": {
        "id": "HsG2LvPwTKCq"
      }
    },
    {
      "cell_type": "code",
      "source": [
        "# 案例回复，用来和你的结果做对比\n",
        "import pandas as pd\n",
        "import matplotlib.pyplot as plt\n",
        "\n",
        "# 读取CSV文件并转换为DataFrame\n",
        "df = pd.read_csv('summer.csv')\n",
        "\n",
        "# 选择仅包含法国运动员的行\n",
        "df_france = df[df['region'] == 'France']\n",
        "\n",
        "# 删除每年参加多个项目的运动员的重复记录\n",
        "df_france_unique = df_france.drop_duplicates(subset=['Year', 'Name'])\n",
        "\n",
        "# 分组并计算每年参赛人数、男性参赛者和女性参赛者的数量\n",
        "num_participants = df_france_unique.groupby('Year')['ID'].count()\n",
        "num_male_participants = df_france_unique[df_france_unique['Sex'] == 'M'].groupby('Year')['ID'].count()\n",
        "num_female_participants = df_france_unique[df_france_unique['Sex'] == 'F'].groupby('Year')['ID'].count()\n",
        "\n",
        "# 绘制折线图\n",
        "plt.plot(num_participants.index, num_participants.values, label='Total participants')\n",
        "plt.plot(num_male_participants.index, num_male_participants.values, label='Male participants')\n",
        "plt.plot(num_female_participants.index, num_female_participants.values, label='Female participants')\n",
        "plt.legend()\n",
        "plt.xlabel('Year')\n",
        "plt.ylabel('Number of participants')\n",
        "plt.title('French Participants in Olympic Games')\n",
        "plt.show()"
      ],
      "metadata": {
        "id": "LiiQaWbgt9cO"
      },
      "execution_count": null,
      "outputs": []
    },
    {
      "cell_type": "code",
      "source": [
        "# 在这里粘贴你的代码并运行\n"
      ],
      "metadata": {
        "id": "SFhXODUYTUcb"
      },
      "execution_count": null,
      "outputs": []
    },
    {
      "cell_type": "markdown",
      "source": [
        "## 5. 可视化2：堆叠柱状图"
      ],
      "metadata": {
        "id": "s2upjEMPAEkd"
      }
    },
    {
      "cell_type": "markdown",
      "source": [
        "### 5.1 筛选出个人项目的数据"
      ],
      "metadata": {
        "id": "x0XYQjA-uUco"
      }
    },
    {
      "cell_type": "markdown",
      "source": [
        "ChatGPT提问范例：\n",
        "\n",
        "**[如果之前有对话，点击ChatGPT输入框左侧小刷子清除上一段对话的记忆]**\n",
        "\n",
        "我有一个数据集summer.csv。 每行对应于参加个别奥林匹克运动项目的个别运动员（运动员事件）。 有以下几列： ID - Unique number for each athlete Name - Athlete's name Sex - M or F Age - Integer Height - In centimeters Weight - In kilograms Year - Integer City - Host city Sport - Sport Event - Event region - country of the athlete Gold- Integer Silver - Integer Bronze - Integer isTeam - True or False\n",
        "\n",
        "请筛选出法国个人项目的数据"
      ],
      "metadata": {
        "id": "cq31xj2RX_hI"
      }
    },
    {
      "cell_type": "code",
      "source": [
        "# 案例回复，用来和你的结果做对比\n",
        "import pandas as pd\n",
        "\n",
        "# 读取CSV文件并转换为DataFrame\n",
        "df = pd.read_csv('summer.csv')\n",
        "\n",
        "# 选择仅包含法国个人项目的行\n",
        "df_france_individual = df[(df['region'] == 'France') & (df['isTeam'] == False)]\n",
        "\n",
        "# 输出筛选后的DataFrame\n",
        "print(df_france_individual)"
      ],
      "metadata": {
        "id": "w-UwkJSzrPXZ"
      },
      "execution_count": null,
      "outputs": []
    },
    {
      "cell_type": "code",
      "source": [
        "# 在这里粘贴你的代码并运行\n"
      ],
      "metadata": {
        "id": "JMCvUZJmTWl8"
      },
      "execution_count": null,
      "outputs": []
    },
    {
      "cell_type": "markdown",
      "source": [
        "### 5.2 找出每年三种奖牌数量"
      ],
      "metadata": {
        "id": "DavTi8VeuZBf"
      }
    },
    {
      "cell_type": "markdown",
      "source": [
        "ChatGPT提问范例：\n",
        "\n",
        "**[如果之前有对话，点击ChatGPT输入框左侧小刷子清除上一段对话的记忆]**\n",
        "\n",
        "我有一个数据集summer.csv。 每行对应于参加个别奥林匹克运动项目的个别运动员（运动员事件）。 有以下几列： ID - Unique number for each athlete Name - Athlete's name Sex - M or F Age - Integer Height - In centimeters Weight - In kilograms Year - Integer City - Host city Sport - Sport Event - Event region - country of the athlete Gold- Integer Silver - Integer Bronze - Integer isTeam - True or False\n",
        "\n",
        "请筛选出法国个人项目的数据，打印出每年三种奖牌的数量"
      ],
      "metadata": {
        "id": "b4iXvKcUYHzs"
      }
    },
    {
      "cell_type": "code",
      "source": [
        "# 案例回复，用来和你的结果做对比\n",
        "import pandas as pd\n",
        "\n",
        "# 加载CSV文件\n",
        "df = pd.read_csv('summer.csv')\n",
        "\n",
        "# 筛选法国个人项目的数据\n",
        "df_france = df.loc[(df['region'] == 'France') & (df['isTeam'] == False)]\n",
        "\n",
        "# 打印每年三种奖牌的数量\n",
        "medals_by_year = df_france.groupby(['Year'])[['Gold', 'Silver', 'Bronze']].sum()\n",
        "print(medals_by_year)"
      ],
      "metadata": {
        "id": "R1Vy6hvWcyIT"
      },
      "execution_count": null,
      "outputs": []
    },
    {
      "cell_type": "code",
      "source": [
        "# 在这里粘贴你的代码并运行\n"
      ],
      "metadata": {
        "id": "T1Y_M5LlTXNQ"
      },
      "execution_count": null,
      "outputs": []
    },
    {
      "cell_type": "markdown",
      "source": [
        "### 5.3 用堆叠柱状图进行可视化"
      ],
      "metadata": {
        "id": "p3We2NnruecW"
      }
    },
    {
      "cell_type": "markdown",
      "source": [
        "ChatGPT提问范例：\n",
        "\n",
        "**[如果之前有对话，点击ChatGPT输入框左侧小刷子清除上一段对话的记忆]**\n",
        "\n",
        "我有一个数据集summer.csv。 每行对应于参加个别奥林匹克运动项目的个别运动员（运动员事件）。\n",
        "有以下几列：\n",
        "ID - Unique number for each athlete\n",
        "Name - Athlete's name\n",
        "Sex - M or F\n",
        "Age - Integer\n",
        "Height - In centimeters\n",
        "Weight - In kilograms\n",
        "Year - Integer\n",
        "City - Host city\n",
        "Sport - Sport\n",
        "Event - Event\n",
        "region - country of the athlete\n",
        "Gold- Integer\n",
        "Silver - Integer\n",
        "Bronze - Integer\n",
        "isTeam - True or False\n",
        "\n",
        "请筛选出法国（region名为France）个人项目的数据，用堆叠柱状图进行可视化，用金色代表金牌，银色代表银牌，铜色代表铜牌。"
      ],
      "metadata": {
        "id": "Qtrpa7EHealm"
      }
    },
    {
      "cell_type": "code",
      "source": [
        "# 案例回复，用来和你的结果做对比\n",
        "import pandas as pd\n",
        "import matplotlib.pyplot as plt\n",
        "\n",
        "# 读取csv文件\n",
        "df = pd.read_csv('summer.csv')\n",
        "\n",
        "# 筛选出法国个人项目的数据\n",
        "france_df = df[(df['region'] == 'France') & (df['isTeam'] == False)]\n",
        "\n",
        "# 按年份计算每种奖牌的数量\n",
        "medals_df = france_df.groupby(['Year'])[['Gold', 'Silver', 'Bronze']].sum()\n",
        "\n",
        "# 绘制堆叠柱状图\n",
        "medals_df.plot(kind='bar', stacked=True, color=['gold', 'silver', 'brown'])\n",
        "\n",
        "# 设置图形属性\n",
        "plt.title('French Individual Olympic Medals')\n",
        "plt.xlabel('Year')\n",
        "plt.ylabel('Medal Count')\n",
        "plt.legend(['Gold', 'Silver', 'Bronze'], loc='upper left')\n",
        "\n",
        "plt.show()"
      ],
      "metadata": {
        "id": "t58R-h1idFsr"
      },
      "execution_count": null,
      "outputs": []
    },
    {
      "cell_type": "code",
      "source": [
        "# 在这里粘贴你的代码并运行\n"
      ],
      "metadata": {
        "id": "Kuk6xIrJdDjm"
      },
      "execution_count": null,
      "outputs": []
    },
    {
      "cell_type": "markdown",
      "source": [
        "# 6. 传统优势、劣势 与 近期机遇、风险分析（SWOT）"
      ],
      "metadata": {
        "id": "1xc1IbxWAcFw"
      }
    },
    {
      "cell_type": "markdown",
      "source": [
        "## 6.1 Strength 强项 [A同学必做，其余同学选做]"
      ],
      "metadata": {
        "id": "2Lqo9uGnBgT3"
      }
    },
    {
      "cell_type": "markdown",
      "source": [
        "### 6.1.1 找出最强的五个项目"
      ],
      "metadata": {
        "id": "uLv_eMk0ukMY"
      }
    },
    {
      "cell_type": "markdown",
      "source": [
        "ChatGPT提问范例：\n",
        "\n",
        "[如果之前有对话，点击ChatGPT输入框左侧小刷子清除上一段对话的记忆]\n",
        "\n",
        "我有一个数据集summer.csv。 每行对应于参加个别奥林匹克运动项目的个别运动员（运动员事件）。 有以下几列： ID - Unique number for each athlete Name - Athlete's name Sex - M or F Age - Integer Height - In centimeters Weight - In kilograms Year - Integer City - Host city Sport - Sport Event - Event region - country of the athlete Gold- Integer Silver - Integer Bronze - Integer isTeam - True or False\n",
        "\n",
        "请筛选出法国（region名为France）个人项目的数据，找出所有奥运会上奖牌总数（金银铜牌之和）最多的五个项目（Sport）"
      ],
      "metadata": {
        "id": "vkPtAVJlhOFH"
      }
    },
    {
      "cell_type": "code",
      "source": [
        "# 案例回复，用来和你的结果做对比\n",
        "import pandas as pd\n",
        "\n",
        "# 读取数据集\n",
        "df = pd.read_csv('summer.csv')\n",
        "\n",
        "# 筛选出法国个人项目的数据\n",
        "france_df = df[(df['region'] == 'France') & (df['isTeam'] == False)]\n",
        "\n",
        "# 计算每个项目的奖牌总数\n",
        "medal_count = france_df.groupby('Sport')[['Gold', 'Silver', 'Bronze']].sum().sum(axis=1)\n",
        "\n",
        "# 找出奖牌总数最多的五个项目\n",
        "top_five_sports = medal_count.nlargest(5)\n",
        "\n",
        "# 输出结果\n",
        "print(top_five_sports)"
      ],
      "metadata": {
        "id": "JvXZcuZNdNTz"
      },
      "execution_count": null,
      "outputs": []
    },
    {
      "cell_type": "code",
      "source": [
        "# 在这里粘贴你的代码并运行\n"
      ],
      "metadata": {
        "id": "bnsBmWPeTXeU"
      },
      "execution_count": null,
      "outputs": []
    },
    {
      "cell_type": "markdown",
      "source": [
        "### 6.1.2 可视化"
      ],
      "metadata": {
        "id": "u3MR1485u36J"
      }
    },
    {
      "cell_type": "markdown",
      "source": [
        "ChatGPT提问范例：\n",
        "\n",
        "[如果之前有对话，点击ChatGPT输入框左侧小刷子清除上一段对话的记忆]\n",
        "\n",
        "我有一个数据集summer.csv。 每行对应于参加个别奥林匹克运动项目的个别运动员（运动员事件）。 有以下几列： ID - Unique number for each athlete Name - Athlete's name Sex - M or F Age - Integer Height - In centimeters Weight - In kilograms Year - Integer City - Host city Sport - Sport Event - Event region - country of the athlete Gold- Integer Silver - Integer Bronze - Integer isTeam - True or False\n",
        "\n",
        "请筛选出法国（region名为France）个人项目的数据，找出所有奥运会上奖牌总数（金银铜牌之和）最多的五个项目（Sport），用饼图表示出来"
      ],
      "metadata": {
        "id": "PrUf8Y5yjIh2"
      }
    },
    {
      "cell_type": "code",
      "source": [
        "import pandas as pd\n",
        "\n",
        "df = pd.read_csv('summer.csv')\n",
        "france_data = df[(df['region'] == 'France') & (df['isTeam'] == False)]\n",
        "medal_counts = france_data.groupby('Sport').sum()[['Gold', 'Silver', 'Bronze']]\n",
        "medal_counts['Total'] = medal_counts['Gold'] + medal_counts['Silver'] + medal_counts['Bronze']\n",
        "top_five = medal_counts.sort_values('Total', ascending=False).head(5)\n",
        "import matplotlib.pyplot as plt\n",
        "\n",
        "plt.pie(top_five['Total'], labels=top_five.index, autopct='%1.1f%%')\n",
        "plt.title('Top 5 Sports with Most Medals for France')\n",
        "plt.show()"
      ],
      "metadata": {
        "id": "X2QntLN0u3Zk"
      },
      "execution_count": null,
      "outputs": []
    },
    {
      "cell_type": "code",
      "source": [
        "# 在这里粘贴你的代码并运行\n"
      ],
      "metadata": {
        "id": "0KXxhbeperPB"
      },
      "execution_count": null,
      "outputs": []
    },
    {
      "cell_type": "markdown",
      "source": [
        "## 6.2 Weakness 弱项 [B，C同学必做，其余同学选做]"
      ],
      "metadata": {
        "id": "9ZhwaCRtBnAk"
      }
    },
    {
      "cell_type": "markdown",
      "source": [
        "ChatGPT提问范例：\n",
        "\n",
        "[如果之前有对话，点击ChatGPT输入框左侧小刷子清除上一段对话的记忆]\n",
        "\n",
        "我有一个数据集summer.csv。 每行对应于参加个别奥林匹克运动项目的个别运动员（运动员事件）。 有以下几列： ID - Unique number for each athlete Name - Athlete's name Sex - M or F Age - Integer Height - In centimeters Weight - In kilograms Year - Integer City - Host city Sport - Sport Event - Event region - country of the athlete Gold- Integer Silver - Integer Bronze - Integer isTeam - True or False\n",
        "\n",
        "请筛选出法国（region名为France）个人项目（isTeam==False）的数据，找出所有奥运会上奖牌总数（金银铜牌之和）最少的一系列项目中，参加次数最多的项目（Sport）。提示：可以合并奖牌数和参赛次数数据。"
      ],
      "metadata": {
        "id": "KAWOLPX9kBKV"
      }
    },
    {
      "cell_type": "code",
      "source": [
        "# 案例回复，用来和你的结果做对比\n",
        "import pandas as pd\n",
        "\n",
        "# 加载CSV文件\n",
        "df = pd.read_csv('summer.csv')\n",
        "\n",
        "# 筛选出法国个人项目的数据\n",
        "france_data = df[(df['region'] == 'France') & (df['isTeam'] == False)]\n",
        "\n",
        "# 计算每个项目的奖牌总数（金牌+银牌+铜牌）\n",
        "medal_counts = france_data.groupby('Sport')[['Gold', 'Silver', 'Bronze']].sum()\n",
        "medal_counts['Total'] = medal_counts.sum(axis=1)\n",
        "\n",
        "# 找出奖牌总数最少的一系列项目\n",
        "min_medals = medal_counts['Total'].min()\n",
        "min_medals_sports = medal_counts[medal_counts['Total'] == min_medals].index.tolist()\n",
        "\n",
        "# 在奖牌总数最少的一系列项目中，找出参加次数最多的项目\n",
        "max_participations = 0\n",
        "max_participations_sport = ''\n",
        "for sport in min_medals_sports:\n",
        "    count = len(france_data[france_data['Sport'] == sport])\n",
        "    if count > max_participations:\n",
        "        max_participations = count\n",
        "        max_participations_sport = sport\n",
        "\n",
        "print(max_participations_sport)"
      ],
      "metadata": {
        "id": "h134XmtnBdfg"
      },
      "execution_count": null,
      "outputs": []
    },
    {
      "cell_type": "code",
      "source": [
        "# 在这里粘贴你的代码并运行\n"
      ],
      "metadata": {
        "id": "-vN0jnEFerqM"
      },
      "execution_count": null,
      "outputs": []
    },
    {
      "cell_type": "markdown",
      "source": [
        "## 6.3 Opportunities and Threats 机遇与挑战 [D，E同学必做，其余同学选做]"
      ],
      "metadata": {
        "id": "FsEK9paghcub"
      }
    },
    {
      "cell_type": "markdown",
      "source": [
        "找出5个传统强项在近5届奥运中的表现\n",
        "\n",
        "ChatGPT提问范例：\n",
        "\n",
        "[如果之前有对话，点击ChatGPT输入框左侧小刷子清除上一段对话的记忆]\n",
        "\n",
        "我有一个数据集summer.csv。 每行对应于参加个别奥林匹克运动项目的个别运动员（运动员事件）。 有以下几列： ID - Unique number for each athlete Name - Athlete's name Sex - M or F Age - Integer Height - In centimeters Weight - In kilograms Year - Integer City - Host city Sport - Sport Event - Event region - country of the athlete Gold- Integer Silver - Integer Bronze - Integer isTeam - True or False\n",
        "\n",
        "请筛选出法国（region名为France）个人项目（isTeam==False）的数据，找出在近5届奥运中（2000-2016年）总奖牌数（金银铜奖牌数之和）最多的5个项目（Sport），并用折线图绘制出这5个项目（Sport）在近5届奥运中（2000-2016年）总奖牌数（金银铜奖牌数之和）变化趋势"
      ],
      "metadata": {
        "id": "AEl3E7chwbD8"
      }
    },
    {
      "cell_type": "code",
      "source": [
        "# 案例回复，用来和你的结果做对比\n",
        "import pandas as pd\n",
        "import matplotlib.pyplot as plt\n",
        "\n",
        "# 读取数据集\n",
        "df = pd.read_csv('summer.csv')\n",
        "\n",
        "# 筛选出法国个人项目的数据\n",
        "france_df = df[(df['region'] == 'France') & (df['isTeam'] == False)]\n",
        "\n",
        "# 筛选出2000-2016年的数据\n",
        "recent_df = france_df[france_df['Year'].between(2000, 2016)]\n",
        "\n",
        "# 计算每个项目的总奖牌数\n",
        "medal_counts = recent_df.groupby('Sport')[['Gold', 'Silver', 'Bronze']].sum().sum(axis=1)\n",
        "\n",
        "# 找出总奖牌数最多的5个项目\n",
        "top_5_sports = medal_counts.nlargest(5).index.tolist()\n",
        "\n",
        "# 筛选出这5个项目的数据\n",
        "top_5_df = recent_df[recent_df['Sport'].isin(top_5_sports)]\n",
        "\n",
        "# 绘制折线图\n",
        "fig, ax = plt.subplots()\n",
        "\n",
        "for sport, group in top_5_df.groupby('Sport'):\n",
        "    group.groupby('Year')[['Gold', 'Silver', 'Bronze']].sum().sum(axis=1).plot(ax=ax, label=sport)\n",
        "\n",
        "ax.set_xlabel('Year')\n",
        "ax.set_ylabel('Medal Count')\n",
        "ax.legend()\n",
        "\n",
        "plt.show()"
      ],
      "metadata": {
        "id": "fNP3c2uiAjvn"
      },
      "execution_count": null,
      "outputs": []
    },
    {
      "cell_type": "code",
      "source": [
        "# 在这里粘贴你的代码并运行\n"
      ],
      "metadata": {
        "id": "KR8dz_tdesmK"
      },
      "execution_count": null,
      "outputs": []
    },
    {
      "cell_type": "markdown",
      "source": [
        "## Conclusion 结论"
      ],
      "metadata": {
        "id": "3TtqFjKgpqOg"
      }
    },
    {
      "cell_type": "markdown",
      "source": [
        "在个人项目中，X国的传统强项是...。在过去的n年中，X国的...项目表现越来越好，...项目表现大幅下降。  \n",
        "我认为X国应该减少在...上的投资，增加在...上的投资，扩大自己的优势。同时，X国可以考虑调整...项目上的部署，找回原来的优势。"
      ],
      "metadata": {
        "id": "4P295DU9pwAe"
      }
    },
    {
      "cell_type": "markdown",
      "source": [
        "## Say something 你想对老师团说的悄悄话"
      ],
      "metadata": {
        "id": "jPmasfVdGqDn"
      }
    },
    {
      "cell_type": "markdown",
      "source": [
        "我想说……"
      ],
      "metadata": {
        "id": "_ob2Xon3o0Rc"
      }
    },
    {
      "cell_type": "code",
      "source": [],
      "metadata": {
        "id": "plqk9J2sJQE0"
      },
      "execution_count": null,
      "outputs": []
    }
  ]
}